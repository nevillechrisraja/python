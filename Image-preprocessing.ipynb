{
 "cells": [
  {
   "cell_type": "code",
   "execution_count": 46,
   "metadata": {},
   "outputs": [
    {
     "name": "stdout",
     "output_type": "stream",
     "text": [
      "Requirement already satisfied: Keras==2.3.1 in c:\\users\\nevil\\anaconda3\\envs\\gputestv2\\lib\\site-packages (2.3.1)\n",
      "Requirement already satisfied: keras-preprocessing>=1.0.5 in c:\\users\\nevil\\anaconda3\\envs\\gputestv2\\lib\\site-packages (from Keras==2.3.1) (1.1.2)\n",
      "Requirement already satisfied: keras-applications>=1.0.6 in c:\\users\\nevil\\anaconda3\\envs\\gputestv2\\lib\\site-packages (from Keras==2.3.1) (1.0.8)\n",
      "Requirement already satisfied: numpy>=1.9.1 in c:\\users\\nevil\\anaconda3\\envs\\gputestv2\\lib\\site-packages (from Keras==2.3.1) (1.19.5)\n",
      "Requirement already satisfied: scipy>=0.14 in c:\\users\\nevil\\anaconda3\\envs\\gputestv2\\lib\\site-packages (from Keras==2.3.1) (1.5.4)\n",
      "Requirement already satisfied: h5py in c:\\users\\nevil\\anaconda3\\envs\\gputestv2\\lib\\site-packages (from Keras==2.3.1) (3.1.0)\n",
      "Requirement already satisfied: pyyaml in c:\\users\\nevil\\anaconda3\\envs\\gputestv2\\lib\\site-packages (from Keras==2.3.1) (5.4.1)\n",
      "Requirement already satisfied: six>=1.9.0 in c:\\users\\nevil\\anaconda3\\envs\\gputestv2\\lib\\site-packages (from Keras==2.3.1) (1.15.0)\n",
      "Requirement already satisfied: cached-property in c:\\users\\nevil\\anaconda3\\envs\\gputestv2\\lib\\site-packages (from h5py->Keras==2.3.1) (1.5.2)\n",
      "Requirement already satisfied: Pillow==7.0.0 in c:\\users\\nevil\\anaconda3\\envs\\gputestv2\\lib\\site-packages (7.0.0)\n",
      "Requirement already satisfied: opencv-python in c:\\users\\nevil\\anaconda3\\envs\\gputestv2\\lib\\site-packages (4.5.1.48)\n",
      "Requirement already satisfied: numpy>=1.13.3 in c:\\users\\nevil\\anaconda3\\envs\\gputestv2\\lib\\site-packages (from opencv-python) (1.19.5)\n",
      "Requirement already satisfied: matplotlib in c:\\users\\nevil\\anaconda3\\envs\\gputestv2\\lib\\site-packages (3.3.4)\n",
      "Requirement already satisfied: kiwisolver>=1.0.1 in c:\\users\\nevil\\anaconda3\\envs\\gputestv2\\lib\\site-packages (from matplotlib) (1.3.1)\n",
      "Requirement already satisfied: numpy>=1.15 in c:\\users\\nevil\\anaconda3\\envs\\gputestv2\\lib\\site-packages (from matplotlib) (1.19.5)\n",
      "Requirement already satisfied: cycler>=0.10 in c:\\users\\nevil\\anaconda3\\envs\\gputestv2\\lib\\site-packages (from matplotlib) (0.10.0)\n",
      "Requirement already satisfied: pillow>=6.2.0 in c:\\users\\nevil\\anaconda3\\envs\\gputestv2\\lib\\site-packages (from matplotlib) (7.0.0)\n",
      "Requirement already satisfied: python-dateutil>=2.1 in c:\\users\\nevil\\anaconda3\\envs\\gputestv2\\lib\\site-packages (from matplotlib) (2.8.1)\n",
      "Requirement already satisfied: pyparsing!=2.0.4,!=2.1.2,!=2.1.6,>=2.0.3 in c:\\users\\nevil\\anaconda3\\envs\\gputestv2\\lib\\site-packages (from matplotlib) (2.4.7)\n",
      "Requirement already satisfied: six in c:\\users\\nevil\\anaconda3\\envs\\gputestv2\\lib\\site-packages (from cycler>=0.10->matplotlib) (1.15.0)\n"
     ]
    }
   ],
   "source": [
    "!pip install Keras==2.3.1\n",
    "!pip install Pillow==7.0.0\n",
    "!pip install opencv-python\n",
    "!pip install matplotlib"
   ]
  },
  {
   "cell_type": "code",
   "execution_count": 47,
   "metadata": {},
   "outputs": [],
   "source": [
    "import os\n",
    "import cv2\n",
    "from os import listdir\n",
    "from matplotlib import image\n",
    "import shutil\n",
    "from PIL import Image\n",
    "\n",
    "import matplotlib.pyplot as plt\n",
    "import numpy as np\n",
    "from scipy import misc, ndimage\n",
    "import imageio\n",
    "import keras\n",
    "from keras import backend as K\n",
    "from keras.preprocessing.image import ImageDataGenerator"
   ]
  },
  {
   "cell_type": "code",
   "execution_count": null,
   "metadata": {},
   "outputs": [],
   "source": [
    "#Environment setup\n",
    "base_path='D:/Surrey/Sem 3/Project/'\n",
    "path='D:/Surrey/Sem 3/Project/image_dataset'#Configurable\n",
    "\n",
    "os.chdir(base_path)\n",
    "if os.path.isdir('image_dataset_resized') is False:\n",
    "    os.makedirs('image_dataset_resized')"
   ]
  },
  {
   "cell_type": "code",
   "execution_count": null,
   "metadata": {},
   "outputs": [],
   "source": [
    "new_path='D:/Surrey/Sem 3/Project/dataset/all'#Configurable\n",
    "\n",
    "os.chdir(new_path)\n",
    "if os.path.isdir('success') is False:\n",
    "    os.makedirs('success')\n",
    "    os.makedirs('failure')\n",
    "    os.makedirs('failure_old')\n",
    "    os.makedirs('other')"
   ]
  },
  {
   "cell_type": "code",
   "execution_count": 2,
   "metadata": {},
   "outputs": [],
   "source": [
    "#Resize original images\n",
    "path='D:/Surrey/Sem 3/Project/image_dataset'#Configurable\n",
    "dest_path='D:/Surrey/Sem 3/Project/image_dataset_resized'#Configurable\n",
    "\n",
    "#Alexnet\n",
    "#width=224\n",
    "#height=224\n",
    "\n",
    "#VGG & ResNet\n",
    "#width=224\n",
    "#height=224\n",
    "\n",
    "#InceptionNet\n",
    "width=299\n",
    "height=299\n",
    "\n",
    "dimension=(width,height)\n",
    "\n",
    "for imgfile in listdir(path):\n",
    "    img = Image.open(path + '/' + imgfile)\n",
    "    resized=img.resize((dimension))\n",
    "    resized.save(dest_path + '/' + imgfile)"
   ]
  },
  {
   "cell_type": "code",
   "execution_count": null,
   "metadata": {},
   "outputs": [],
   "source": [
    "import cv2\n",
    "\n",
    "#Resize original images\n",
    "path='D:/Surrey/Sem 3/Project/image_dataset'#Configurable\n",
    "dest_path='D:/Surrey/Sem 3/Project/image_dataset_resized'#Configurable\n",
    " \n",
    "#VGG & ResNet\n",
    "width=224\n",
    "height=224\n",
    "\n",
    "#InceptionNet\n",
    "#width=299\n",
    "#height=299\n",
    "\n",
    "dim = (width, height)\n",
    "  \n",
    "for imgfile in listdir(path):\n",
    "    #img = Image.open(path + '/' + imgfile, cv2.IMREAD_UNCHANGED)    \n",
    "    img = cv2.imread(path + '/' + imgfile, cv2.IMREAD_UNCHANGED)\n",
    "    resized = cv2.resize(img, dim, interpolation = cv2.INTER_AREA)\n",
    "    #resized.save(dest_path + '/' + imgfile)\n",
    "    cv2.imwrite(dest_path + '/' + imgfile,resized)"
   ]
  },
  {
   "cell_type": "code",
   "execution_count": 3,
   "metadata": {},
   "outputs": [],
   "source": [
    "#Data cleansing\n",
    "from keras.preprocessing.image import array_to_img, img_to_array, load_img\n",
    "path='D:/Surrey/Sem 3/Project/image_dataset_resized'#Configurable\n",
    "for imgfile in listdir(path):\n",
    "    img_bad = load_img(path + '/' + imgfile)  \n",
    "    img_val = img_to_array(img_bad)  # this is a Numpy array with shape (3, 150, 150)\n",
    "    x=np.where(img_val>0)\n",
    "    if x[1].size==0:\n",
    "        os.remove(path + '/' + imgfile)"
   ]
  },
  {
   "cell_type": "code",
   "execution_count": 48,
   "metadata": {},
   "outputs": [],
   "source": [
    "#Move images to respective folders based on its class\n",
    "path='D:/Surrey/Sem 3/Project/image_dataset_resized'#Configurable\n",
    "for imgfile in listdir(path):\n",
    "    # load image\n",
    "#    print(imgfile)\n",
    "    #print(imgfile.rfind('Success'))\n",
    "    if(imgfile.rfind('Success')!=-1):\n",
    "        #print('1st cond')\n",
    "        dst_dir='D:/Surrey/Sem 3/Project/dataset/all/success'\n",
    "        shutil.copy(path + '/' + imgfile, dst_dir)\n",
    "    \n",
    "    elif(imgfile.rfind('Failure')!=-1):\n",
    "        #print('2nd cond')\n",
    "        \n",
    "        dst_dir='D:/Surrey/Sem 3/Project/dataset/all/failure'\n",
    "        #print(dst_dir)\n",
    "        #print(path + '\\\\' + imgfile)\n",
    "        shutil.copy(path + '/' + imgfile, dst_dir)\n",
    "    \n",
    "    else:\n",
    "        dst_dir='D:/Surrey/Sem 3/Project/dataset/all/other'\n",
    "        shutil.copy(path + '/' + imgfile, dst_dir)"
   ]
  },
  {
   "cell_type": "code",
   "execution_count": 3,
   "metadata": {},
   "outputs": [
    {
     "name": "stdout",
     "output_type": "stream",
     "text": [
      "6027\n"
     ]
    }
   ],
   "source": [
    "#Find num of success images\n",
    "success_dir='D:/Surrey/Sem 3/Project/dataset/all/success/'\n",
    "success_list=os.listdir(success_dir)\n",
    "num_files_1=len(success_list)\n",
    "\n",
    "print(num_files_1)"
   ]
  },
  {
   "cell_type": "code",
   "execution_count": 4,
   "metadata": {},
   "outputs": [],
   "source": [
    "train=70\n",
    "val=15\n",
    "train_num=round(num_files_1*train/100)\n",
    "val_num=round(num_files_1*val/100)"
   ]
  },
  {
   "cell_type": "code",
   "execution_count": 16,
   "metadata": {},
   "outputs": [],
   "source": [
    "#Success train, val and test split\n",
    "i=1\n",
    "\n",
    "for imgfile in listdir(success_dir):\n",
    "    # load image\n",
    "    #print(imgfile)\n",
    "    dst_dir='C:/Users/nevil/Downloads/project-20210616T161821Z-001/project/split_v2_corrected/train/0 success'\n",
    "    #shutil.move(success_dir + '/' + imgfile, dst_dir)\n",
    "    shutil.move(os.path.join(success_dir, imgfile), os.path.join(dst_dir, imgfile))\n",
    "    \n",
    "    i=i+1\n",
    "    if(i>train_num):\n",
    "        break\n",
    "\n",
    "i=1\n",
    "for imgfile in listdir(success_dir):\n",
    "    # load image\n",
    "    #print(imgfile)\n",
    "    #print(imgfile.rfind('Success'))\n",
    "    dst_dir='C:/Users/nevil/Downloads/project-20210616T161821Z-001/project/split_v2_corrected/validation/0 success'\n",
    "    shutil.move(os.path.join(success_dir, imgfile), os.path.join(dst_dir, imgfile))\n",
    "    i=i+1\n",
    "    if(i>val_num):\n",
    "        break     \n",
    "\n",
    "for imgfile in listdir(success_dir):\n",
    "    # load image\n",
    "    #print(imgfile)\n",
    "    #print(imgfile.rfind('Success'))\n",
    "    dst_dir='C:/Users/nevil/Downloads/project-20210616T161821Z-001/project/split_v2_corrected/test/0 success'\n",
    "    shutil.move(os.path.join(success_dir, imgfile), os.path.join(dst_dir, imgfile))"
   ]
  },
  {
   "cell_type": "code",
   "execution_count": null,
   "metadata": {},
   "outputs": [],
   "source": [
    "#Success train, val and test split\n",
    "train_num=5774\n",
    "val_num=190\n",
    "test_num=63\n",
    "\n",
    "i=1\n",
    "for imgfile in listdir(success_dir):\n",
    "    # load image\n",
    "    #print(imgfile)\n",
    "    dst_dir='D:/Surrey/Sem 3/Project/dataset/split/train/success'\n",
    "    #shutil.move(success_dir + '/' + imgfile, dst_dir)\n",
    "    shutil.move(os.path.join(success_dir, imgfile), os.path.join(dst_dir, imgfile))\n",
    "    \n",
    "    i=i+1\n",
    "    if(i>train_num):\n",
    "        break\n",
    "\n",
    "i=1\n",
    "for imgfile in listdir(success_dir):\n",
    "    # load image\n",
    "    #print(imgfile)\n",
    "    #print(imgfile.rfind('Success'))\n",
    "    dst_dir='D:/Surrey/Sem 3/Project/dataset/split/validation/success'\n",
    "    shutil.move(os.path.join(success_dir, imgfile), os.path.join(dst_dir, imgfile))\n",
    "    i=i+1\n",
    "    if(i>val_num):\n",
    "        break     \n",
    "i=1\n",
    "\n",
    "for imgfile in listdir(success_dir):\n",
    "    # load image\n",
    "    #print(imgfile)\n",
    "    #print(imgfile.rfind('Success'))\n",
    "    dst_dir='D:/Surrey/Sem 3/Project/dataset/split/test/success'\n",
    "    shutil.move(os.path.join(success_dir, imgfile), os.path.join(dst_dir, imgfile))\n",
    "    \n",
    "    i=i+1\n",
    "    if(i>test_num):\n",
    "        break"
   ]
  },
  {
   "cell_type": "code",
   "execution_count": null,
   "metadata": {},
   "outputs": [],
   "source": [
    "#Random Undersampling\n",
    "#Success train, val and test split\n",
    "test_num=150\n",
    "val_num=150\n",
    "\n",
    "#src = root_dir + cls # Folder to copy images from\n",
    "\n",
    "allFileNames = os.listdir('D:/Surrey/Sem 3/Project/dataset/all/failure_old')\n",
    "np.random.shuffle(allFileNames)\n",
    "\n",
    "print(allFileNames)"
   ]
  },
  {
   "cell_type": "code",
   "execution_count": 5,
   "metadata": {},
   "outputs": [
    {
     "name": "stdout",
     "output_type": "stream",
     "text": [
      "6027\n"
     ]
    }
   ],
   "source": [
    "#Find num of success images\n",
    "success_dir='D:\\\\Surrey\\\\Sem 3\\\\Project\\\\dataset\\\\all\\\\success'\n",
    "success_list=os.listdir(success_dir)\n",
    "num_files_1=len(success_list)\n",
    "\n",
    "print(num_files_1)"
   ]
  },
  {
   "cell_type": "code",
   "execution_count": 6,
   "metadata": {},
   "outputs": [],
   "source": [
    "#Random Undersampling\n",
    "#Success validation split\n",
    "val_num=150\n",
    "\n",
    "#src = root_dir + cls # Folder to copy images from\n",
    "\n",
    "allFileNames = os.listdir(success_dir)\n",
    "np.random.shuffle(allFileNames)\n",
    "\n",
    "i=1\n",
    "for imgfile in allFileNames:\n",
    "    # load image\n",
    "    #print(imgfile)\n",
    "    #print(imgfile.rfind('Success'))\n",
    "    dst_dir='C:/Users/nevil/Downloads/project-20210616T161821Z-001/project/split_v2_corrected/validation/0 success'\n",
    "    shutil.move(os.path.join(success_dir, imgfile), os.path.join(dst_dir, imgfile))\n",
    "    i=i+1\n",
    "    if(i>val_num):\n",
    "        break"
   ]
  },
  {
   "cell_type": "code",
   "execution_count": 7,
   "metadata": {},
   "outputs": [],
   "source": [
    "#Random Undersampling\n",
    "#Success test split\n",
    "test_num=150\n",
    "\n",
    "#src = root_dir + cls # Folder to copy images from\n",
    "\n",
    "allFileNames = os.listdir(success_dir)\n",
    "np.random.shuffle(allFileNames)\n",
    "\n",
    "i=1\n",
    "\n",
    "for imgfile in allFileNames:\n",
    "    # load image\n",
    "    #print(imgfile)\n",
    "    #print(imgfile.rfind('Success'))\n",
    "    dst_dir='C:/Users/nevil/Downloads/project-20210616T161821Z-001/project/split_v2_corrected/test/0 success'\n",
    "    shutil.move(os.path.join(success_dir, imgfile), os.path.join(dst_dir, imgfile))\n",
    "    \n",
    "    i=i+1\n",
    "    if(i>test_num):\n",
    "        break"
   ]
  },
  {
   "cell_type": "code",
   "execution_count": 8,
   "metadata": {},
   "outputs": [],
   "source": [
    "#Copy entire success images to the train set \n",
    "for imgfile in listdir(success_dir):\n",
    "    #print(imgfile)\n",
    "    dst_dir='C:/Users/nevil/Downloads/project-20210616T161821Z-001/project/split_v2_corrected/train/0 success'\n",
    "    #shutil.move(success_dir + '/' + imgfile, dst_dir)\n",
    "    shutil.move(os.path.join(success_dir, imgfile), os.path.join(dst_dir, imgfile))"
   ]
  },
  {
   "cell_type": "code",
   "execution_count": 34,
   "metadata": {},
   "outputs": [],
   "source": [
    "#Delete random images\n",
    "import random\n",
    "success_dir = r'C:/Users/nevil/Downloads/project-20210616T161821Z-001/project/smote/smote_v3/train/0 success'# You can provide the path here\n",
    "n = 1728 # Number of random images to be removed\n",
    "img_names = os.listdir(success_dir)  # Get image names in folder\n",
    "img_names = random.sample(img_names, n)  # Pick 2500 random images\n",
    "for image in img_names:  # Go over each image name to be deleted\n",
    "    f = os.path.join(success_dir, image)  # Create valid path to image\n",
    "    os.remove(f)  # Remove the image"
   ]
  },
  {
   "cell_type": "code",
   "execution_count": null,
   "metadata": {},
   "outputs": [],
   "source": []
  },
  {
   "cell_type": "code",
   "execution_count": 9,
   "metadata": {},
   "outputs": [
    {
     "name": "stdout",
     "output_type": "stream",
     "text": [
      "634\n"
     ]
    }
   ],
   "source": [
    "#Find num of failure images\n",
    "failure_dir='D:\\\\Surrey\\\\Sem 3\\\\Project\\\\dataset\\\\all\\\\failure'  \n",
    "failure_list=os.listdir(failure_dir)\n",
    "num_files_2=len(failure_list)\n",
    "\n",
    "print(num_files_2)"
   ]
  },
  {
   "cell_type": "code",
   "execution_count": 10,
   "metadata": {},
   "outputs": [],
   "source": [
    "#Random Undersampling\n",
    "#Success validation split\n",
    "val_num=150\n",
    "\n",
    "allFileNames = os.listdir(failure_dir)\n",
    "np.random.shuffle(allFileNames)\n",
    "\n",
    "i=1\n",
    "for imgfile in allFileNames:\n",
    "    #print(imgfile)\n",
    "    #print(imgfile.rfind('Success'))\n",
    "    dst_dir='C:/Users/nevil/Downloads/project-20210616T161821Z-001/project/split_v2_corrected/validation/1 failure'\n",
    "    shutil.move(os.path.join(failure_dir, imgfile), os.path.join(dst_dir, imgfile))\n",
    "    i=i+1\n",
    "    if(i>val_num):\n",
    "        break"
   ]
  },
  {
   "cell_type": "code",
   "execution_count": 11,
   "metadata": {},
   "outputs": [],
   "source": [
    "#Random Undersampling\n",
    "#Success test split\n",
    "test_num=15\n",
    "\n",
    "allFileNames = os.listdir(failure_dir)\n",
    "np.random.shuffle(allFileNames)\n",
    "\n",
    "i=1\n",
    "\n",
    "for imgfile in allFileNames:\n",
    "    # load image\n",
    "    #print(imgfile)\n",
    "    #print(imgfile.rfind('Success'))\n",
    "    dst_dir='C:/Users/nevil/Downloads/project-20210616T161821Z-001/project/split_v2_corrected/test/1 failure'\n",
    "    shutil.move(os.path.join(failure_dir, imgfile), os.path.join(dst_dir, imgfile))\n",
    "    \n",
    "    i=i+1\n",
    "    if(i>test_num):\n",
    "        break"
   ]
  },
  {
   "cell_type": "code",
   "execution_count": 57,
   "metadata": {},
   "outputs": [],
   "source": [
    "#Copy entire failure images to the train set \n",
    "for imgfile in listdir(failure_dir):\n",
    "    #print(imgfile)\n",
    "    dst_dir='C:/Users/nevil/Downloads/project-20210616T161821Z-001/project/smote/smote_v5/train/1 failure'\n",
    "    #shutil.move(success_dir + '/' + imgfile, dst_dir)\n",
    "    shutil.move(os.path.join(failure_dir, imgfile), os.path.join(dst_dir, imgfile))"
   ]
  },
  {
   "cell_type": "code",
   "execution_count": null,
   "metadata": {},
   "outputs": [],
   "source": [
    "from numpy import expand_dims\n",
    "from keras.preprocessing.image import load_img\n",
    "from keras.preprocessing.image import img_to_array\n",
    "from keras.preprocessing.image import ImageDataGenerator\n",
    "from matplotlib import pyplot"
   ]
  },
  {
   "cell_type": "code",
   "execution_count": 12,
   "metadata": {},
   "outputs": [],
   "source": [
    "#Alternate augmenting the failure class to solve class imbalance\n",
    "path='D:/Surrey/Sem 3/Project/dataset/all/failure'\n",
    "for imgfile in listdir(path):\n",
    "    imgfile_name = imgfile[:][0:-4]\n",
    "    #print('aug_'+imgfile_name)    \n",
    "    \n",
    "    #datagen = ImageDataGenerator(shear_range=0.2,zoom_range=0.2,rotation_range=15,horizontal_flip=True,width_shift_range=0.2,height_shift_range=0.2)\n",
    "    #gen = ImageDataGenerator(zoom_range=0.2)\n",
    "    #gen = ImageDataGenerator(width_shift_range=0.2)\n",
    "    #gen = ImageDataGenerator(height_shift_range=0.2)\n",
    "    #gen = ImageDataGenerator(horizontal_flip=True)\n",
    "    gen = ImageDataGenerator(rotation_range=5,horizontal_flip=True)\n",
    "\n",
    "    image = np.expand_dims(imageio.imread(path + '/' + imgfile),0)\n",
    "\n",
    "    aug_iter = gen.flow(image)\n",
    "\n",
    "    # Generate batches of augmented images from this image\n",
    "    aug_iter = gen.flow(image,save_to_dir='D:\\\\Surrey\\\\Sem 3\\\\Project\\\\dataset\\\\all\\\\failure_aug\\\\',save_prefix='aug_' + imgfile_name,save_format='png')\n",
    "\n",
    "    # Get 5 samples of augmented images\n",
    "    aug_images = [next(aug_iter)[0].astype(np.uint8) for i in range(12)]"
   ]
  },
  {
   "cell_type": "code",
   "execution_count": 13,
   "metadata": {},
   "outputs": [],
   "source": [
    "#Copy entire success images to the train set\n",
    "failure_dir='D:/Surrey/Sem 3/Project/dataset/all/failure_aug'\n",
    "for imgfile in listdir(failure_dir):\n",
    "    #print(imgfile)\n",
    "    dst_dir='C:/Users/nevil/Downloads/project-20210616T161821Z-001/project/split_v2_corrected/train/1 failure'\n",
    "    #shutil.move(success_dir + '/' + imgfile, dst_dir)\n",
    "    shutil.move(os.path.join(failure_dir, imgfile), os.path.join(dst_dir, imgfile))"
   ]
  },
  {
   "cell_type": "code",
   "execution_count": 21,
   "metadata": {},
   "outputs": [
    {
     "name": "stdout",
     "output_type": "stream",
     "text": [
      "5703\n"
     ]
    }
   ],
   "source": [
    "#Find num of failure images\n",
    "failure_dir='D:\\\\Surrey\\\\Sem 3\\\\Project\\\\dataset\\\\all\\\\failure_aug'    \n",
    "failure_list=os.listdir(failure_dir)\n",
    "num_files_2=len(failure_list)\n",
    "\n",
    "print(num_files_2)"
   ]
  },
  {
   "cell_type": "code",
   "execution_count": 22,
   "metadata": {},
   "outputs": [
    {
     "name": "stdout",
     "output_type": "stream",
     "text": [
      "3992 855\n"
     ]
    }
   ],
   "source": [
    "train=70\n",
    "val=15\n",
    "train_num=round(num_files_2*train/100)\n",
    "val_num=round(num_files_2*val/100)\n",
    "print(train_num,val_num)"
   ]
  },
  {
   "cell_type": "code",
   "execution_count": 23,
   "metadata": {},
   "outputs": [],
   "source": [
    "#Failure train, val and test split\n",
    "#train_num=round(num_files_2*train/100)\n",
    "#val_num=round(num_files_2*val/100)\n",
    "\n",
    "#train_num=381\n",
    "#val_num=190\n",
    "#test_num=63\n",
    "\n",
    "\n",
    "i=1\n",
    "for imgfile in listdir(failure_dir):\n",
    "    dst_dir='C:/Users/nevil/Downloads/project-20210616T161821Z-001/project/split_v2_2/train/1 failure'\n",
    "    shutil.move(os.path.join(failure_dir, imgfile), os.path.join(dst_dir, imgfile))\n",
    "    i=i+1\n",
    "    if(i>train_num):\n",
    "        break\n",
    "\n",
    "i=1\n",
    "for imgfile in listdir(failure_dir):\n",
    "    dst_dir='C:/Users/nevil/Downloads/project-20210616T161821Z-001/project/split_v2_2/validation/1 failure'\n",
    "    shutil.move(os.path.join(failure_dir, imgfile), os.path.join(dst_dir, imgfile))\n",
    "    i=i+1\n",
    "    if(i>val_num):\n",
    "        break     \n",
    "\n",
    "for imgfile in listdir(failure_dir):\n",
    "    dst_dir='C:/Users/nevil/Downloads/project-20210616T161821Z-001/project/split_v2_2/test/1 failure'\n",
    "    shutil.move(os.path.join(failure_dir, imgfile), os.path.join(dst_dir, imgfile))"
   ]
  },
  {
   "cell_type": "code",
   "execution_count": null,
   "metadata": {},
   "outputs": [],
   "source": [
    "#Augmenting the failure class to solve class imbalance\n",
    "path='D:/Surrey/Sem 3/Project/dataset/split/train_failure_old'\n",
    "for imgfile in listdir(path):\n",
    "    imgfile_name = imgfile[:][0:-4]\n",
    "    #print('aug_'+imgfile_name)    \n",
    "    \n",
    "    #gen = ImageDataGenerator(rotation_range=40, rescale=1./255, horizontal_flip=True)\n",
    "    #gen = ImageDataGenerator(rotation_range=5)\n",
    "    gen = ImageDataGenerator(horizontal_flip=True)\n",
    "\n",
    "    image = np.expand_dims(imageio.imread(path + '/' + imgfile),0)\n",
    "\n",
    "    aug_iter = gen.flow(image)\n",
    "\n",
    "    # Generate batches of augmented images from this image\n",
    "    aug_iter = gen.flow(image,save_to_dir='D:\\\\Surrey\\\\Sem 3\\\\Project\\\\dataset\\\\split\\\\train_failure_old_v2\\\\',save_prefix='aug_' + imgfile_name,save_format='png')\n",
    "\n",
    "    # Get 9 samples of augmented images\n",
    "    aug_images = [next(aug_iter)[0].astype(np.uint8) for i in range(2)]"
   ]
  },
  {
   "cell_type": "code",
   "execution_count": null,
   "metadata": {},
   "outputs": [],
   "source": [
    "#Augmenting the failure class to solve class imbalance\n",
    "path='D:/Surrey/Sem 3/Project/dataset/split/train_failure_old_v2'\n",
    "for imgfile in listdir(path):\n",
    "    imgfile_name = imgfile[:][0:-4]\n",
    "    #print('aug_'+imgfile_name)    \n",
    "    \n",
    "    #gen = ImageDataGenerator(rotation_range=40, rescale=1./255, horizontal_flip=True)\n",
    "    gen = ImageDataGenerator(rotation_range=5)\n",
    "    #gen = ImageDataGenerator(horizontal_flip=True)\n",
    "\n",
    "    image = np.expand_dims(imageio.imread(path + '/' + imgfile),0)\n",
    "\n",
    "    aug_iter = gen.flow(image)\n",
    "\n",
    "    # Generate batches of augmented images from this image\n",
    "    aug_iter = gen.flow(image,save_to_dir='D:\\\\Surrey\\\\Sem 3\\\\Project\\\\dataset\\\\split\\\\train\\\\failure\\\\',save_prefix='aug_' + imgfile_name,save_format='png')\n",
    "\n",
    "    # Get 9 samples of augmented images\n",
    "    aug_images = [next(aug_iter)[0].astype(np.uint8) for i in range(2)]"
   ]
  },
  {
   "cell_type": "code",
   "execution_count": null,
   "metadata": {},
   "outputs": [],
   "source": [
    "from keras.preprocessing.image import ImageDataGenerator, array_to_img, img_to_array, load_img\n",
    "\n",
    "datagen = ImageDataGenerator(rotation_range=5,horizontal_flip=True)\n",
    "\n",
    "path='D:/Surrey/Sem 3/Project/dataset/split/train_failure_old_copy'\n",
    "for imgfile in listdir(path):\n",
    "    imgfile_name = imgfile[:][0:-4]\n",
    "    print('aug_'+imgfile_name)\n",
    "    print(imgfile_name+'.png')\n",
    "    \n",
    "    img = load_img(path+'/'+imgfile_name+'.png')  # this is a PIL image\n",
    "    x = img_to_array(img)  # this is a Numpy array with shape (3, 150, 150)\n",
    "    x = x.reshape((1,) + x.shape)  # this is a Numpy array with shape (1, 3, 150, 150)\n",
    "\n",
    "    # the .flow() command below generates batches of randomly transformed images\n",
    "    # and saves the results to the `preview/` directory\n",
    "    i = 0\n",
    "    for batch in datagen.flow(x, batch_size=1,\n",
    "                              save_to_dir='D:\\\\Surrey\\\\Sem 3\\\\Project\\\\dataset\\\\split\\\\train\\\\failure\\\\', save_prefix='cat', save_format='png'):\n",
    "        i += 1\n",
    "        if i > 5:\n",
    "            break  # otherwise the generator would loop indefinitely\n",
    "        "
   ]
  },
  {
   "cell_type": "code",
   "execution_count": null,
   "metadata": {},
   "outputs": [],
   "source": [
    "#Alternate augmenting the failure class to solve class imbalance\n",
    "path='D:/Surrey/Sem 3/Project/dataset/all/failure_old'\n",
    "for imgfile in listdir(path):\n",
    "    imgfile_name = imgfile[:][0:-4]\n",
    "    #print('aug_'+imgfile_name)    \n",
    "    \n",
    "    gen = ImageDataGenerator(rescale=1./255)\n",
    "\n",
    "    image = np.expand_dims(imageio.imread(path + '/' + imgfile),0)\n",
    "\n",
    "    aug_iter = gen.flow(image)\n",
    "\n",
    "    # Generate batches of augmented images from this image\n",
    "    aug_iter = gen.flow(image,save_to_dir='D:\\\\Surrey\\\\Sem 3\\\\Project\\\\dataset\\\\all\\\\failure\\\\',save_prefix='aug_' + imgfile_name,save_format='png')\n",
    "\n",
    "    # Get 5 samples of augmented images\n",
    "    aug_images = [next(aug_iter)[0].astype(np.uint8) for i in range(9)]"
   ]
  },
  {
   "cell_type": "code",
   "execution_count": null,
   "metadata": {},
   "outputs": [],
   "source": [
    "# Convert images to grayscale\n",
    "from PIL import Image, ImageOps\n",
    "from numpy import asarray\n",
    "from os import listdir\n",
    "import pandas as pd\n",
    "\n",
    "from keras.preprocessing.image import array_to_img, img_to_array, load_img\n",
    "source_path='C:/Users/nevil/Downloads/project-20210616T161821Z-001/project/smote/failure/'\n",
    "dest_path='C:/Users/nevil/Downloads/project-20210616T161821Z-001/project/smote/failure_grayscale/'\n",
    "print(\"Done\")\n",
    "for imgfile in listdir(source_path):\n",
    "    print(imgfile)\n",
    "    image_load = Image.open(source_path + imgfile)\n",
    "    image = ImageOps.grayscale(image_load)\n",
    "    image.save(dest_path + imgfile)\n",
    "print(\"Completed\")"
   ]
  },
  {
   "cell_type": "code",
   "execution_count": null,
   "metadata": {},
   "outputs": [],
   "source": [
    "# Convert images to grayscale\n",
    "from PIL import Image, ImageOps\n",
    "from numpy import asarray\n",
    "from os import listdir\n",
    "import pandas as pd\n",
    "\n",
    "from keras.preprocessing.image import array_to_img, img_to_array, load_img\n",
    "source_path='C:/Users/nevil/Downloads/project-20210616T161821Z-001/project/smote/success/'\n",
    "dest_path='C:/Users/nevil/Downloads/project-20210616T161821Z-001/project/smote/success_grayscale/'\n",
    "print(\"Done\")\n",
    "for imgfile in listdir(source_path):\n",
    "    print(imgfile)\n",
    "    image_load = Image.open(source_path + imgfile)\n",
    "    image = ImageOps.grayscale(image_load)\n",
    "    image.save(dest_path + imgfile)\n",
    "print(\"Completed\")"
   ]
  }
 ],
 "metadata": {
  "kernelspec": {
   "display_name": "Python 3",
   "language": "python",
   "name": "python3"
  },
  "language_info": {
   "codemirror_mode": {
    "name": "ipython",
    "version": 3
   },
   "file_extension": ".py",
   "mimetype": "text/x-python",
   "name": "python",
   "nbconvert_exporter": "python",
   "pygments_lexer": "ipython3",
   "version": "3.8.3"
  }
 },
 "nbformat": 4,
 "nbformat_minor": 5
}
